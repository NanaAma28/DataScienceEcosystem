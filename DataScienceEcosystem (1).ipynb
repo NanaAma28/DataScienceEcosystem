{
 "cells": [
  {
   "cell_type": "markdown",
   "id": "d9de83f4-1378-4ef0-ae0d-d2fdb8d15f5a",
   "metadata": {},
   "source": [
    "# Data Science Tools and Ecosystem"
   ]
  },
  {
   "cell_type": "markdown",
   "id": "e546d64e-da12-4b92-af0a-5a08bf8d3063",
   "metadata": {},
   "source": [
    "In this notebook, Data Science Tolls and Ecosystem are summarized."
   ]
  },
  {
   "cell_type": "markdown",
   "id": "d1c7fa58-a129-446b-a129-291160e7e3ec",
   "metadata": {},
   "source": [
    "**Objectives:.**\n",
    "- Create markdown cell with title of the notebook\n",
    "- Create a markdown cell for an introduction\n",
    "- Create a markdown cell to list data science languages"
   ]
  },
  {
   "cell_type": "markdown",
   "id": "b6fc7c03-2eb5-4d82-a753-9271ed356ed6",
   "metadata": {},
   "source": [
    "Some of the popular languages that Data Scientists use are:\n",
    "1. Python\n",
    "2. R\n",
    "3. Julia\n",
    "4. SQL\n",
    "5. Scala"
   ]
  },
  {
   "cell_type": "markdown",
   "id": "04db6a3e-2673-4f79-ba52-5005325871b6",
   "metadata": {},
   "source": [
    "Some of the commonly used libraries used by Data Scientists include:\n",
    "1. Pandas\n",
    "2. Numpy\n",
    "3. Scikit-learn\n",
    "4. Matplotlib"
   ]
  },
  {
   "cell_type": "markdown",
   "id": "1f6399f4-bbea-48c6-b036-971435998183",
   "metadata": {},
   "source": [
    "| Data Science Tools |\n",
    "| ------------------ |\n",
    "| Jupyter Notebook |\n",
    "| RStudio |\n",
    "| PyCharm |"
   ]
  },
  {
   "cell_type": "markdown",
   "id": "c9f4abff-22a9-43a3-a8d5-a142fe4ef55b",
   "metadata": {},
   "source": [
    "### Below are a few examples of evaluating arithmatic expressions in Python"
   ]
  },
  {
   "cell_type": "code",
   "execution_count": 1,
   "id": "d25951e9-e098-461a-a5c8-8fda80c64ba4",
   "metadata": {
    "tags": []
   },
   "outputs": [
    {
     "data": {
      "text/plain": [
       "17"
      ]
     },
     "execution_count": 1,
     "metadata": {},
     "output_type": "execute_result"
    }
   ],
   "source": [
    "# This is a simple arithmetic expression to multiply then add integers\n",
    "(3*4)+5"
   ]
  },
  {
   "cell_type": "code",
   "execution_count": 2,
   "id": "d8a90a8d-414d-4d31-81d0-9dd222a481bb",
   "metadata": {
    "tags": []
   },
   "outputs": [
    {
     "name": "stdout",
     "output_type": "stream",
     "text": [
      "3.3333333333333335\n"
     ]
    }
   ],
   "source": [
    "# This will convert 200 minutes to hours by dividing by 60\n",
    "hours = 200 / 60\n",
    "print(hours)"
   ]
  },
  {
   "cell_type": "markdown",
   "id": "cb9759dc-dc51-4955-9c3e-1c9676728bbe",
   "metadata": {},
   "source": [
    "## Author\n",
    "Lois Dadzie"
   ]
  },
  {
   "cell_type": "code",
   "execution_count": null,
   "id": "a9742bb0-e6a5-48eb-9729-fcaaf168727f",
   "metadata": {},
   "outputs": [],
   "source": []
  }
 ],
 "metadata": {
  "kernelspec": {
   "display_name": "Python 3 (ipykernel)",
   "language": "python",
   "name": "python3"
  },
  "language_info": {
   "codemirror_mode": {
    "name": "ipython",
    "version": 3
   },
   "file_extension": ".py",
   "mimetype": "text/x-python",
   "name": "python",
   "nbconvert_exporter": "python",
   "pygments_lexer": "ipython3",
   "version": "3.11.5"
  }
 },
 "nbformat": 4,
 "nbformat_minor": 5
}
